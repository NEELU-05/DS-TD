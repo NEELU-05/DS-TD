{
 "cells": [
  {
   "cell_type": "markdown",
   "id": "978b3909",
   "metadata": {},
   "source": [
    "### Task 1: Basics of Probability\n",
    "\n",
    "(a) Toss a coin 10,000 times and calculate experimental probability.\n",
    "(b) Roll two dice and compute probability of sum = 7."
   ]
  },
  {
   "cell_type": "code",
   "execution_count": null,
   "id": "cd022ae3",
   "metadata": {},
   "outputs": [],
   "source": [
    "\n",
    "import random\n",
    "\n",
    "trials = 10000\n",
    "heads = 0\n",
    "tails = 0\n",
    "for _ in range(trials):\n",
    "    if random.choice(['H','T']) == 'H':\n",
    "        heads += 1\n",
    "    else:\n",
    "        tails += 1\n",
    "\n",
    "pro_heads = heads / trials\n",
    "pro_tails = tails / trials\n",
    "pro_heads, pro_tails\n"
   ]
  },
  {
   "cell_type": "code",
   "execution_count": null,
   "id": "6e17885f",
   "metadata": {},
   "outputs": [],
   "source": [
    "\n",
    "\n",
    "trials = 10000\n",
    "sum7 = 0\n",
    "for _ in range(trials):\n",
    "    d1 = random.randint(1,6)\n",
    "    d2 = random.randint(1,6)\n",
    "    if d1 + d2 == 7:\n",
    "        sum7 += 1\n",
    "\n",
    "prob_sum7 = sum7 / trials\n",
    "prob_sum7\n"
   ]
  },
  {
   "cell_type": "markdown",
   "id": "a7855c48",
   "metadata": {},
   "source": [
    "### Task 2: Probability of at least one '6' in 10 rolls"
   ]
  },
  {
   "cell_type": "code",
   "execution_count": null,
   "id": "d4c681f1",
   "metadata": {},
   "outputs": [],
   "source": [
    "\n",
    "def prob_at_least_one_six(trials=10000):\n",
    "    success = 0\n",
    "    for _ in range(trials):\n",
    "        rolls = [random.randint(1,6) for _ in range(10)]\n",
    "        if 6 in rolls:\n",
    "            success += 1\n",
    "    return success / trials\n",
    "\n",
    "prob_at_least_one_six()\n"
   ]
  },
  {
   "cell_type": "markdown",
   "id": "aba7a6bb",
   "metadata": {},
   "source": [
    "### Task 3: Conditional Probability and Bayes' Theorem"
   ]
  },
  {
   "cell_type": "code",
   "execution_count": null,
   "id": "965d7f51",
   "metadata": {},
   "outputs": [],
   "source": [
    "\n",
    "import numpy as np\n",
    "\n",
    "colors = ['R']*5 + ['G']*7 + ['B']*8\n",
    "trials = 1000\n",
    "draws = []\n",
    "for _ in range(trials):\n",
    "    draws.append(random.choice(colors))\n",
    "\n",
    "# Conditional probability P(Red | previous Blue)\n",
    "count_prevB = 0\n",
    "count_R_given_B = 0\n",
    "for i in range(1, len(draws)):\n",
    "    if draws[i-1] == 'B':\n",
    "        count_prevB += 1\n",
    "        if draws[i] == 'R':\n",
    "            count_R_given_B += 1\n",
    "\n",
    "prob_R_given_B = count_R_given_B / count_prevB if count_prevB>0 else 0\n",
    "prob_R_given_B\n"
   ]
  },
  {
   "cell_type": "code",
   "execution_count": null,
   "id": "e5fff7e2",
   "metadata": {},
   "outputs": [],
   "source": [
    "\n",
    "# Verify Bayes Theorem: P(R|B) ≈ P(B|R)*P(R)/P(B)\n",
    "P_R = draws.count('R') / len(draws)\n",
    "P_B = draws.count('B') / len(draws)\n",
    "\n",
    "count_prevR = 0\n",
    "count_B_given_R = 0\n",
    "for i in range(1, len(draws)):\n",
    "    if draws[i-1] == 'R':\n",
    "        count_prevR += 1\n",
    "        if draws[i] == 'B':\n",
    "            count_B_given_R += 1\n",
    "\n",
    "P_B_given_R = count_B_given_R / count_prevR if count_prevR>0 else 0\n",
    "\n",
    "bayes_result = (P_B_given_R * P_R) / P_B\n",
    "bayes_result, prob_R_given_B\n"
   ]
  },
  {
   "cell_type": "markdown",
   "id": "fcf3c624",
   "metadata": {},
   "source": [
    "### Task 4: Random Variables and Discrete Probability"
   ]
  },
  {
   "cell_type": "code",
   "execution_count": null,
   "id": "8dfa4e8f",
   "metadata": {},
   "outputs": [],
   "source": [
    "\n",
    "import numpy as np\n",
    "\n",
    "values = [1,2,3]\n",
    "probs = [0.25,0.35,0.4]\n",
    "sample = np.random.choice(values, size=1000, p=probs)\n",
    "\n",
    "mean = np.mean(sample)\n",
    "var = np.var(sample)\n",
    "std = np.std(sample)\n",
    "mean, var, std\n"
   ]
  },
  {
   "cell_type": "markdown",
   "id": "336d2f52",
   "metadata": {},
   "source": [
    "### Task 5: Continuous Random Variables (Exponential Distribution)"
   ]
  },
  {
   "cell_type": "code",
   "execution_count": null,
   "id": "0767e1a8",
   "metadata": {},
   "outputs": [],
   "source": [
    "\n",
    "import matplotlib.pyplot as plt\n",
    "\n",
    "data = np.random.exponential(scale=5, size=2000)\n",
    "\n",
    "plt.hist(data, bins=30, density=True, alpha=0.6, color='g')\n",
    "\n",
    "from scipy.stats import expon\n",
    "x = np.linspace(0, max(data), 100)\n",
    "plt.plot(x, expon.pdf(x, scale=5), 'r', lw=2)\n",
    "plt.show()\n"
   ]
  },
  {
   "cell_type": "markdown",
   "id": "11059267",
   "metadata": {},
   "source": [
    "### Task 6: Central Limit Theorem"
   ]
  },
  {
   "cell_type": "code",
   "execution_count": null,
   "id": "4c309d56",
   "metadata": {},
   "outputs": [],
   "source": [
    "\n",
    "# Uniform distribution\n",
    "uniform_data = np.random.uniform(0,1,10000)\n",
    "\n",
    "# Sample means\n",
    "sample_means = []\n",
    "for _ in range(1000):\n",
    "    sample = np.random.choice(uniform_data, size=30)\n",
    "    sample_means.append(np.mean(sample))\n",
    "\n",
    "plt.figure(figsize=(12,5))\n",
    "plt.subplot(1,2,1)\n",
    "plt.hist(uniform_data, bins=30, density=True, color='skyblue')\n",
    "plt.title(\"Uniform Distribution\")\n",
    "\n",
    "plt.subplot(1,2,2)\n",
    "plt.hist(sample_means, bins=30, density=True, color='orange')\n",
    "plt.title(\"Distribution of Sample Means\")\n",
    "plt.show()\n"
   ]
  }
 ],
 "metadata": {
  "language_info": {
   "name": "python"
  }
 },
 "nbformat": 4,
 "nbformat_minor": 5
}
