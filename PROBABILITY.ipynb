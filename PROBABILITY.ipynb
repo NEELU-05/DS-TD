{
 "cells": [
  {
   "cell_type": "markdown",
   "id": "3e9700ee",
   "metadata": {},
   "source": [
    "### Task 1: Basics of Probability"
   ]
  },
  {
   "cell_type": "code",
   "execution_count": 12,
   "id": "10f253bf",
   "metadata": {},
   "outputs": [
    {
     "name": "stdout",
     "output_type": "stream",
     "text": [
      "probability of head:50.2 \n",
      "probability for tails:49.8\n",
      "Probability of sum 7: 0.1657\n"
     ]
    }
   ],
   "source": [
    "import random\n",
    "\n",
    "trials = 10000\n",
    "heads = 0\n",
    "tails = 0\n",
    "\n",
    "for i in range(trials):\n",
    "    toss = random.choice(['H',\"T\"])\n",
    "    if toss == \"H\":\n",
    "        heads=heads+1\n",
    "    else:\n",
    "        tails=tails+1\n",
    "pro_heads = heads / trials *100\n",
    "pro_tails = tails / trials *100\n",
    "print(f\"probability of head:{pro_heads} \\nprobability for tails:{pro_tails}\")\n",
    "count = 0\n",
    "trials = 10000\n",
    "for _ in range(trials):\n",
    "    if random.randint(1, 6) + random.randint(1, 6) == 7:\n",
    "        count += 1\n",
    "print(\"Probability of sum 7:\", count/trials)\n"
   ]
  },
  {
   "cell_type": "markdown",
   "id": "92ee22aa",
   "metadata": {},
   "source": [
    "### Task 2: Basics of Probability"
   ]
  },
  {
   "cell_type": "code",
   "execution_count": 13,
   "id": "c889a94f",
   "metadata": {},
   "outputs": [
    {
     "name": "stdout",
     "output_type": "stream",
     "text": [
      "Probability of at least one 6 in 10 rolls: 0.8365\n"
     ]
    }
   ],
   "source": [
    "import random\n",
    "def prob_one_six(trials=10000):\n",
    "    success = 0\n",
    "    for _ in range(trials):\n",
    "        rolls = [random.randint(1, 6) for _ in range(10)]\n",
    "        if 6 in rolls:\n",
    "            success += 1\n",
    "    return success / trials\n",
    "\n",
    "print(\"Probability of at least one 6 in 10 rolls:\", prob_one_six())"
   ]
  },
  {
   "cell_type": "markdown",
   "id": "2524dda9",
   "metadata": {},
   "source": [
    "### Task 3: Conditional Probability and Bayes' Theorem\n"
   ]
  },
  {
   "cell_type": "code",
   "execution_count": 14,
   "id": "38526bd4",
   "metadata": {},
   "outputs": [
    {
     "name": "stdout",
     "output_type": "stream",
     "text": [
      "P(Red | Blue) from simulation: 0.22119815668202766\n",
      "P(Red | Blue) from Bayes: 0.25\n"
     ]
    }
   ],
   "source": [
    "import random\n",
    "\n",
    "colors = [\"R\"] * 5 + [\"G\"] * 7 + [\"B\"] * 8\n",
    "trials = 1000\n",
    "sequence = [random.choice(colors) for _ in range(trials)]\n",
    "\n",
    "count_blue = 0\n",
    "count_red_after_blue = 0\n",
    "for i in range(1, trials):\n",
    "    if sequence[i-1] == \"B\":\n",
    "        count_blue += 1\n",
    "        if sequence[i] == \"R\":\n",
    "            count_red_after_blue += 1\n",
    "\n",
    "p_red_given_blue = count_red_after_blue / count_blue\n",
    "print(\"P(Red | Blue) from simulation:\", p_red_given_blue)\n",
    "\n",
    "p_red = 5/20\n",
    "p_blue = 8/20\n",
    "p_blue_given_red = (8/20)\n",
    "p_red_bayes = (p_blue_given_red * p_red) / p_blue\n",
    "print(\"P(Red | Blue) from Bayes:\", p_red_bayes)\n"
   ]
  },
  {
   "cell_type": "markdown",
   "id": "fc19a4da",
   "metadata": {},
   "source": [
    "### Task 4: Random Variables and Discrete Probability\n"
   ]
  },
  {
   "cell_type": "code",
   "execution_count": 17,
   "id": "60018b3a",
   "metadata": {},
   "outputs": [
    {
     "name": "stdout",
     "output_type": "stream",
     "text": [
      "Mean: 2.179\n",
      "Variance: 0.6229590000000002\n",
      "Standard Deviation: 0.7892775177337817\n"
     ]
    }
   ],
   "source": [
    "import numpy as np\n",
    "\n",
    "values = [1, 2, 3]\n",
    "probs = [0.25, 0.35, 0.4]\n",
    "sample = np.random.choice(values, size=1000, p=probs)\n",
    "\n",
    "print(\"Mean:\", np.mean(sample))\n",
    "print(\"Variance:\", np.var(sample))\n",
    "print(\"Standard Deviation:\", np.std(sample))\n"
   ]
  },
  {
   "cell_type": "markdown",
   "id": "74f4039b",
   "metadata": {},
   "source": [
    "### Task 5: Continuous Random Variables\n"
   ]
  },
  {
   "cell_type": "code",
   "execution_count": 19,
   "id": "f5791391",
   "metadata": {},
   "outputs": [
    {
     "data": {
      "image/png": "[encoded data removed]",
      "text/plain": [
       "<Figure size 640x480 with 1 Axes>"
      ]
     },
     "metadata": {},
     "output_type": "display_data"
    }
   ],
   "source": [
    "import numpy as np\n",
    "import matplotlib.pyplot as plt\n",
    "\n",
    "data = np.random.exponential(scale=5, size=2000)\n",
    "\n",
    "plt.hist(data, bins=30, density=True, alpha=0.6, label=\"Histogram\")\n",
    "\n",
    "x = np.linspace(0, max(data), 1000)\n",
    "pdf = (1/5) * np.exp(-x/5)  \n",
    "plt.plot(x, pdf, \"r-\", label=\"PDF\")\n",
    "\n",
    "plt.xlabel(\"Value\")\n",
    "plt.ylabel(\"Density\")\n",
    "plt.legend()\n",
    "plt.show()\n",
    "\n"
   ]
  },
  {
   "cell_type": "markdown",
   "id": "e754f561",
   "metadata": {},
   "source": [
    "### Task 6: Central Limit Theorem"
   ]
  },
  {
   "cell_type": "code",
   "execution_count": 20,
   "id": "9e8de09c",
   "metadata": {},
   "outputs": [
    {
     "data": {
      "image/png": "[encoded data removed]",
      "text/plain": [
       "<Figure size 640x480 with 1 Axes>"
      ]
     },
     "metadata": {},
     "output_type": "display_data"
    }
   ],
   "source": [
    "import numpy as np\n",
    "import matplotlib.pyplot as plt\n",
    "\n",
    "data = np.random.uniform(0, 1, 10000)\n",
    "\n",
    "plt.hist(data, bins=30, density=True, alpha=0.6, label=\"Uniform Distribution\")\n",
    "\n",
    "sample_means = [np.mean(np.random.choice(data, 30)) for _ in range(1000)]\n",
    "\n",
    "plt.hist(sample_means, bins=30, density=True, alpha=0.6, label=\"Sample Means\")\n",
    "plt.xlabel(\"Value\")\n",
    "plt.ylabel(\"Density\")\n",
    "plt.legend()\n",
    "plt.show()\n"
   ]
  }
 ],
 "metadata": {
  "kernelspec": {
   "display_name": "Python 3",
   "language": "python",
   "name": "python3"
  },
  "language_info": {
   "codemirror_mode": {
    "name": "ipython",
    "version": 3
   },
   "file_extension": ".py",
   "mimetype": "text/x-python",
   "name": "python",
   "nbconvert_exporter": "python",
   "pygments_lexer": "ipython3",
   "version": "3.12.6"
  }
 },
 "nbformat": 4,
 "nbformat_minor": 5
}
