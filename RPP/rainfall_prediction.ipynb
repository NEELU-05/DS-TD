{
 "cells": [
  {
   "cell_type": "markdown",
   "id": "71a660e1",
   "metadata": {},
   "source": []
  },
  {
   "cell_type": "code",
   "execution_count": null,
   "id": "e09441c0",
   "metadata": {},
   "outputs": [],
   "source": [
    "import pandas as pd\n",
    "import numpy as np\n",
    "import matplotlib.pyplot as plt\n",
    "import seaborn as sns\n",
    "from sklearn.model_selection import train_test_split\n",
    "from sklearn.linear_model import LinearRegression\n",
    "from sklearn.metrics import mean_squared_error, r2_score\n",
    "\n",
    "# Load data\n",
    "df = pd.read_csv('austin_weather.csv')\n",
    "df.replace({'T':0, '-':np.nan}, inplace=True)\n",
    "df.dropna(inplace=True)\n",
    "\n",
    "\n",
    "\n",
    "# Features and target\n",
    "X = df[['TempHighF','TempLowF','DewPointAvgF','HumidityAvgPercent','SeaLevelPressureAvgInches','VisibilityAvgMiles','WindAvgMPH']]\n",
    "y = df['PrecipitationSumInches']\n",
    "\n",
    "# Train/test split\n",
    "X_train, X_test, y_train, y_test = train_test_split(X, y, test_size=0.2, random_state=42)\n",
    "\n",
    "# Model\n",
    "model = LinearRegression()\n",
    "model.fit(X_train, y_train)\n",
    "y_pred = model.predict(X_test)\n",
    "\n",
    "# Evaluation\n",
    "print('MSE:', mean_squared_error(y_test, y_pred))\n",
    "print('R2:', r2_score(y_test, y_pred))\n",
    "\n",
    "# Plots\n",
    "plt.figure(figsize=(12,5))\n",
    "plt.plot(pd.to_datetime(df['Date']), df['PrecipitationSumInches'])\n",
    "plt.title('Precipitation Over Time')\n",
    "plt.xlabel('Date')\n",
    "plt.ylabel('Precipitation')\n",
    "plt.show()\n",
    "\n",
    "plt.figure(figsize=(10,6))\n",
    "sns.heatmap(df[cols].corr(), annot=True, cmap='coolwarm')\n",
    "plt.show()\n",
    "\n",
    "plt.scatter(df['HumidityAvgPercent'], df['PrecipitationSumInches'], alpha=0.5)\n",
    "plt.title('Precipitation vs Humidity')\n",
    "plt.xlabel('Humidity')\n",
    "plt.ylabel('Precipitation')\n",
    "plt.show()\n",
    "\n",
    "# Coefficients\n",
    "coef_df = pd.DataFrame({'Feature': X.columns, 'Coefficient': model.coef_})\n",
    "print(coef_df.sort_values(by='Coefficient', key=abs, ascending=False))"
   ]
  }
 ],
 "metadata": {
  "language_info": {
   "name": "python"
  }
 },
 "nbformat": 4,
 "nbformat_minor": 5
}
