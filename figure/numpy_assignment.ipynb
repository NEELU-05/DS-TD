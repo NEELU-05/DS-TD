{
 "cells": [
  {
   "cell_type": "code",
   "execution_count": 16,
   "id": "1ae26b26",
   "metadata": {},
   "outputs": [],
   "source": [
    "import numpy as np"
   ]
  },
  {
   "cell_type": "markdown",
   "id": "350a1ee6",
   "metadata": {},
   "source": [
    "1. Create a 1D NumPy array with integers from 1 to 20. Perform the following operations:  \n",
    "  a. Calculate the sum, mean, median, and standard deviation of the elements in the array.  \n",
    "  b. Find the indices of elements greater than 10 in the array.\n"
   ]
  },
  {
   "cell_type": "code",
   "execution_count": 15,
   "id": "b400b720",
   "metadata": {},
   "outputs": [
    {
     "name": "stdout",
     "output_type": "stream",
     "text": [
      "Sum: 210,\n",
      "Mean: 10.5,\n",
      "Median: 10.5,\n",
      "Std Dev: 5.77,\n",
      "Indices > 10: [10 11 12 13 14 15 16 17 18 19]\n"
     ]
    }
   ],
   "source": [
    "np_1D = np.arange(1, 21)  \n",
    "\n",
    "total   = np.sum(np_1D)\n",
    "mean    = np.mean(np_1D)\n",
    "median  = np.median(np_1D)\n",
    "std_dev = np.std(np_1D)\n",
    "indices = np.where(np_1D > 10)[0]\n",
    "\n",
    "print(f\"Sum: {total},\\nMean: {mean},\\nMedian: {median},\\nStd Dev: {std_dev:.2f},\\nIndices > 10: {indices}\")"
   ]
  },
  {
   "cell_type": "markdown",
   "id": "3c35c080",
   "metadata": {},
   "source": [
    "2. Create a 2D NumPy array of shape 4 X 4 with numbers ranging from 1 to 16.  \n",
    "  a. Print the array.  \n",
    "  b. Find the transpose of the array.  \n",
    "  c. Calculate the row-wise and column-wise sums of the array.  \n"
   ]
  },
  {
   "cell_type": "code",
   "execution_count": null,
   "id": "7c9298c3",
   "metadata": {},
   "outputs": [
    {
     "name": "stdout",
     "output_type": "stream",
     "text": [
      "[[ 1  2  3  4]\n",
      " [ 5  6  7  8]\n",
      " [ 9 10 11 12]\n",
      " [13 14 15 16]]\n",
      "\n",
      "Transpose:\n",
      " [[ 1  5  9 13]\n",
      " [ 2  6 10 14]\n",
      " [ 3  7 11 15]\n",
      " [ 4  8 12 16]]\n",
      "\n",
      "Row sums: [10 26 42 58]\n",
      "Column sums: [28 32 36 40]\n"
     ]
    }
   ],
   "source": [
    "np_2D = np.arange(1, 17).reshape(4, 4)\n",
    "print(np_2D)\n",
    "\n",
    "trans = np.transpose(np_2D)\n",
    "print(\"\\nTranspose:\\n\", trans)\n",
    "\n",
    "rsum = np.sum(np_2D, axis=1)   \n",
    "csum = np.sum(np_2D, axis=0)    \n",
    "print(\"\\nRow sums:\", rsum)\n",
    "print(\"Column sums:\", csum)\n"
   ]
  },
  {
   "cell_type": "markdown",
   "id": "fcfeac41",
   "metadata": {},
   "source": []
  },
  {
   "cell_type": "markdown",
   "id": "c007ab8d",
   "metadata": {},
   "source": [
    "3. Create two 3 X 3 arrays filled with random integers between 1 and 20.  \n",
    "  a. Perform element-wise addition, subtraction, and multiplication.  \n",
    "  b. Compute the dot product of the two arrays.  \n"
   ]
  },
  {
   "cell_type": "code",
   "execution_count": 46,
   "id": "ccb01cff",
   "metadata": {},
   "outputs": [
    {
     "name": "stdout",
     "output_type": "stream",
     "text": [
      "Matrix 1:\n",
      " [[3 1 2]\n",
      " [5 8 4]\n",
      " [3 4 6]]\n",
      "Matrix 2:\n",
      " [[4 3 1]\n",
      " [2 6 2]\n",
      " [8 9 8]]\n",
      "\n",
      "Element-wise Add:\n",
      " [[ 7  4  3]\n",
      " [ 7 14  6]\n",
      " [11 13 14]]\n",
      "\n",
      "Element-wise Sub:\n",
      " [[-1 -2  1]\n",
      " [ 3  2  2]\n",
      " [-5 -5 -2]]\n",
      "\n",
      "Element-wise Multi:\n",
      " [[12  3  2]\n",
      " [10 48  8]\n",
      " [24 36 48]]\n",
      "\n",
      "Element-wise dot:\n",
      " [[30 33 21]\n",
      " [68 99 53]\n",
      " [68 87 59]]\n"
     ]
    }
   ],
   "source": [
    "import numpy as np\n",
    "\n",
    "np_3D1 = np.random.randint(1, 10, size=(3, 3))\n",
    "np_3D2 = np.random.randint(1, 10, size=(3, 3))\n",
    "\n",
    "print(\"Matrix 1:\\n\", np_3D1)\n",
    "print(\"Matrix 2:\\n\", np_3D2)\n",
    "\n",
    "\n",
    "sum_array = np_3D1 + np_3D2\n",
    "sub_array = np_3D1 - np_3D2\n",
    "multi_array = np.multiply(np_3D1,np_3D2)  \n",
    "\n",
    "print(\"\\nElement-wise Add:\\n\", sum_array)\n",
    "print(\"\\nElement-wise Sub:\\n\", sub_array)\n",
    "print(\"\\nElement-wise Multi:\\n\", multi_array)\n",
    "\n",
    "dot_array = np.dot(np_3D1,np_3D2)\n",
    "print(\"\\nElement-wise dot:\\n\", dot_array)\n",
    "\n"
   ]
  },
  {
   "cell_type": "markdown",
   "id": "d7149c8b",
   "metadata": {},
   "source": [
    " Reshape a 1D array of size 12 into a 3 X 4 2D array and slice the first two rows and last two columns."
   ]
  },
  {
   "cell_type": "code",
   "execution_count": 67,
   "id": "f9c15cd4",
   "metadata": {},
   "outputs": [
    {
     "name": "stdout",
     "output_type": "stream",
     "text": [
      "Original 3x4 Array:\n",
      " [[ 1  2  3  4]\n",
      " [ 5  6  7  8]\n",
      " [ 9 10 11 12]]\n",
      "\n",
      "First 2 rows (all columns):\n",
      " [[1 2 3 4]\n",
      " [5 6 7 8]]\n",
      "\n",
      "All rows, last 2 columns:\n",
      " [[ 3  4]\n",
      " [ 7  8]\n",
      " [11 12]]\n"
     ]
    }
   ],
   "source": [
    "array_3x4 = np.arange(1, 13).reshape(3, 4)\n",
    "print(\"Original 3x4 Array:\\n\", array_3x4)\n",
    "\n",
    "first_two_rows = array_3x4[:2, :]\n",
    "print(\"\\nFirst 2 rows (all columns):\\n\", first_two_rows)\n",
    "\n",
    "last_two_columns = array_3x4[:, 2:4]\n",
    "print(\"\\nAll rows, last 2 columns:\\n\", last_two_columns)\n",
    "\n"
   ]
  }
 ],
 "metadata": {
  "kernelspec": {
   "display_name": "Python 3",
   "language": "python",
   "name": "python3"
  },
  "language_info": {
   "codemirror_mode": {
    "name": "ipython",
    "version": 3
   },
   "file_extension": ".py",
   "mimetype": "text/x-python",
   "name": "python",
   "nbconvert_exporter": "python",
   "pygments_lexer": "ipython3",
   "version": "3.12.10"
  }
 },
 "nbformat": 4,
 "nbformat_minor": 5
}
