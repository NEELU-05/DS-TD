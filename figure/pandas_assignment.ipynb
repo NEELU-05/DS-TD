{
 "cells": [
  {
   "cell_type": "markdown",
   "id": "4c421830",
   "metadata": {},
   "source": [
    "1. Create a DataFrame with the following data:  \n",
    "  \n",
    "\n",
    "\n",
    "  data = {\n",
    "      'Name': ['Alice', 'Bob', 'Charlie', 'Diana', 'Eve'],\n",
    "      'Age': [24, 27, 22, 32, 29],\n",
    "      'Department': ['HR', 'Finance', 'IT', 'Marketing', 'HR'],\n",
    "      'Salary': [45000, 54000, 50000, 62000, 47000]\n",
    "  }\n",
    "  \n",
    "  a. Print the first five rows of the DataFrame.  \n",
    "  b. Get the summary statistics of the 'Age' and 'Salary' columns.  \n",
    "  c. Calculate the average salary of employees in the 'HR' department.  \n",
    "\n",
    "\n",
    "2. Add a new column, 'Bonus', which is 10% of the salary.  \n",
    "\n",
    "\n",
    "3. Filter the DataFrame to show employees aged between 25 and 30.  \n",
    "\n",
    "\n",
    "4. Group the data by 'Department' and calculate the average salary for each department.  \n",
    "\n",
    "\n",
    "5. Sort the DataFrame by 'Salary' in ascending order and save the result to a new CSV file.  \n"
   ]
  },
  {
   "cell_type": "code",
   "execution_count": 4,
   "id": "ccae4bfa",
   "metadata": {},
   "outputs": [],
   "source": [
    "import pandas as pd\n",
    "import numpy as np"
   ]
  },
  {
   "cell_type": "code",
   "execution_count": 3,
   "id": "e655d3c0",
   "metadata": {},
   "outputs": [
    {
     "name": "stdout",
     "output_type": "stream",
     "text": [
      "      Name  Age Department  Salary\n",
      "0    Alice   24         HR   45000\n",
      "1      Bob   27    Finance   54000\n",
      "2  Charlie   22         IT   50000\n",
      "3    Diana   32  Marketing   62000\n",
      "4      Eve   29         HR   47000\n",
      "\n",
      "              Age        Salary\n",
      "count   5.000000      5.000000\n",
      "mean   26.800000  51600.000000\n",
      "std     3.962323   6730.527468\n",
      "min    22.000000  45000.000000\n",
      "25%    24.000000  47000.000000\n",
      "50%    27.000000  50000.000000\n",
      "75%    29.000000  54000.000000\n",
      "max    32.000000  62000.000000\n",
      "Average HR Salary: 46000.0\n"
     ]
    }
   ],
   "source": [
    "data = {\n",
    "      'Name': ['Alice', 'Bob', 'Charlie', 'Diana', 'Eve'],\n",
    "      'Age': [24, 27, 22, 32, 29],\n",
    "      'Department': ['HR', 'Finance', 'IT', 'Marketing', 'HR'],\n",
    "      'Salary': [45000, 54000, 50000, 62000, 47000]\n",
    "  }\n",
    "df = pd.DataFrame(data)\n",
    "print(df.head(5))\n",
    "\n",
    "print(\"\\n\",df[['Age', 'Salary']].describe())\n",
    "\n",
    "avg_hr_salary = df[df['Department'] == 'HR']['Salary'].mean()\n",
    "print(\"Average HR Salary:\", avg_hr_salary)\n",
    "\n",
    "\n",
    "\n"
   ]
  },
  {
   "cell_type": "code",
   "execution_count": 6,
   "id": "356aff1b",
   "metadata": {},
   "outputs": [
    {
     "name": "stdout",
     "output_type": "stream",
     "text": [
      "      Name  Age Department  Salary    Bonus\n",
      "0    Alice   24         HR   45000   9000.0\n",
      "1      Bob   27    Finance   54000  10800.0\n",
      "2  Charlie   22         IT   50000  10000.0\n",
      "3    Diana   32  Marketing   62000  12400.0\n",
      "4      Eve   29         HR   47000   9400.0\n"
     ]
    }
   ],
   "source": [
    "df['Bonus'] = df['Salary'] * 0.20\n",
    "print(df)\n"
   ]
  },
  {
   "cell_type": "code",
   "execution_count": 11,
   "id": "8c1cd4ca",
   "metadata": {},
   "outputs": [
    {
     "data": {
      "text/html": [
       "<div>\n",
       "<style scoped>\n",
       "    .dataframe tbody tr th:only-of-type {\n",
       "        vertical-align: middle;\n",
       "    }\n",
       "\n",
       "    .dataframe tbody tr th {\n",
       "        vertical-align: top;\n",
       "    }\n",
       "\n",
       "    .dataframe thead th {\n",
       "        text-align: right;\n",
       "    }\n",
       "</style>\n",
       "<table border=\"1\" class=\"dataframe\">\n",
       "  <thead>\n",
       "    <tr style=\"text-align: right;\">\n",
       "      <th></th>\n",
       "      <th>Name</th>\n",
       "      <th>Age</th>\n",
       "      <th>Department</th>\n",
       "      <th>Salary</th>\n",
       "      <th>Bonus</th>\n",
       "    </tr>\n",
       "  </thead>\n",
       "  <tbody>\n",
       "    <tr>\n",
       "      <th>1</th>\n",
       "      <td>Bob</td>\n",
       "      <td>27</td>\n",
       "      <td>Finance</td>\n",
       "      <td>54000</td>\n",
       "      <td>10800.0</td>\n",
       "    </tr>\n",
       "    <tr>\n",
       "      <th>4</th>\n",
       "      <td>Eve</td>\n",
       "      <td>29</td>\n",
       "      <td>HR</td>\n",
       "      <td>47000</td>\n",
       "      <td>9400.0</td>\n",
       "    </tr>\n",
       "  </tbody>\n",
       "</table>\n",
       "</div>"
      ],
      "text/plain": [
       "  Name  Age Department  Salary    Bonus\n",
       "1  Bob   27    Finance   54000  10800.0\n",
       "4  Eve   29         HR   47000   9400.0"
      ]
     },
     "execution_count": 11,
     "metadata": {},
     "output_type": "execute_result"
    }
   ],
   "source": [
    "filter_age = df[df['Age'].between(25, 30)]\n",
    "filter_age "
   ]
  },
  {
   "cell_type": "code",
   "execution_count": 17,
   "id": "595fd9cd",
   "metadata": {},
   "outputs": [
    {
     "data": {
      "text/plain": [
       "Department\n",
       "Finance      54000.0\n",
       "HR           46000.0\n",
       "IT           50000.0\n",
       "Marketing    62000.0\n",
       "Name: Salary, dtype: float64"
      ]
     },
     "execution_count": 17,
     "metadata": {},
     "output_type": "execute_result"
    }
   ],
   "source": [
    "avg_department = df.groupby(\"Department\")[\"Salary\"].mean()\n",
    "avg_department\n"
   ]
  },
  {
   "cell_type": "code",
   "execution_count": 19,
   "id": "0bd100a0",
   "metadata": {},
   "outputs": [],
   "source": [
    "data_sort = df.sort_values(\"Salary\",ascending=True)\n",
    "data_sort.to_csv(\"data sort.csv\")"
   ]
  }
 ],
 "metadata": {
  "kernelspec": {
   "display_name": "Python 3",
   "language": "python",
   "name": "python3"
  },
  "language_info": {
   "codemirror_mode": {
    "name": "ipython",
    "version": 3
   },
   "file_extension": ".py",
   "mimetype": "text/x-python",
   "name": "python",
   "nbconvert_exporter": "python",
   "pygments_lexer": "ipython3",
   "version": "3.12.10"
  }
 },
 "nbformat": 4,
 "nbformat_minor": 5
}
